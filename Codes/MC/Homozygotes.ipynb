{
 "cells": [
  {
   "cell_type": "code",
   "execution_count": 1,
   "id": "655268f9",
   "metadata": {},
   "outputs": [],
   "source": [
    "import pandas as pd\n",
    "import  math\n",
    "import numpy as np\n",
    "from collections import defaultdict\n",
    "import matplotlib.pyplot as plt\n",
    "import re"
   ]
  },
  {
   "cell_type": "markdown",
   "id": "48e9a52f",
   "metadata": {},
   "source": [
    "## Find Homozygous"
   ]
  },
  {
   "cell_type": "code",
   "execution_count": null,
   "id": "b4c60fd4",
   "metadata": {},
   "outputs": [],
   "source": [
    "# Read Data\n",
    "\n",
    "data = pd.read_excel(f'alleles_data.xlsx', header = [0])\n",
    "data.columns = ['ID','A1_GROUPED', 'A2_GROUPED','B1_GROUPED','B2_GROUPED','C1_GROUPED','C2_GROUPED','DRB1_1_GROUPED', 'DRB1_2_GROUPED','DQB1_1_GROUPED', 'DQB1_2_GROUPED']"
   ]
  },
  {
   "cell_type": "code",
   "execution_count": null,
   "id": "1f1ee795",
   "metadata": {},
   "outputs": [],
   "source": [
    "'''\n",
    "Εκτός από τους estimated haplotypes from haplomat, θα χρησιμοποιήσουμε \n",
    "τους ομόζυγους απλότυπους των CBUs που θα βρουμε στα δεδομένα μας. Πως θα τους βρω αυτούς?\n",
    "'''\n",
    "def hom_haplotypes(data,\n",
    "                   n_genes, #how many genes\n",
    "                  ):\n",
    "    hom_haplotypes = defaultdict(lambda:0)\n",
    "    hom_haplotypes_id = defaultdict(lambda:[])\n",
    "    for row in data.iterrows():\n",
    "        haplotype = []\n",
    "       #print(row[1]['ID'])\n",
    "        if n_genes >= 3:\n",
    "            if (row[1]['A1_GROUPED'].strip() == row[1]['A2_GROUPED'].strip()) and (not 'not found' in row[1]['A1_GROUPED']):\n",
    "                haplotype.append('A*{}'.format(':'.join(row[1]['A1_GROUPED'].split(':')[:2])))\n",
    "            if (row[1]['B1_GROUPED'].strip() == row[1]['B2_GROUPED'].strip()) and (not 'not found' in row[1]['B1_GROUPED']):\n",
    "                haplotype.append('B*{}'.format(':'.join(row[1]['B1_GROUPED'].split(':')[:2])))\n",
    "            if (row[1]['DRB1_1_GROUPED'].strip() == row[1]['DRB1_2_GROUPED'].strip()) and (not 'not found' in row[1]['DRB1_1_GROUPED']):\n",
    "                haplotype.append('DRB1*{}'.format(':'.join(row[1]['DRB1_1_GROUPED'].split(':')[:2])))\n",
    "        if n_genes >=4:\n",
    "            if (row[1]['C1_GROUPED'].strip() == row[1]['C2_GROUPED'].strip()) and (not 'not found' in row[1]['C1_GROUPED']):\n",
    "                haplotype.append('C*{}'.format(':'.join(row[1]['C1_GROUPED'].split(':')[:2])))\n",
    "        if n_genes>=5:\n",
    "            if (row[1]['DQB1_1_GROUPED'].strip() == row[1]['DQB1_2_GROUPED'].strip()) and (not 'not found' in row[1]['DQB1_1_GROUPED']):\n",
    "                haplotype.append('DQB1*{}'.format(':'.join(row[1]['DQB1_1_GROUPED'].split(':')[:2])))\n",
    "        if n_genes==6:\n",
    "            if (row[1]['DPB1_1_GROUPED'].strip() == row[1]['DPB1_2_GROUPED'].strip()) and (not 'not found' in row[1]['DPB1_1_GROUPED']):\n",
    "                haplotype.append('DPB1*{}'.format(':'.join(row[1]['DPB1_1_GROUPED'].split(':')[:2])))\n",
    "                \n",
    "        if len(haplotype) == n_genes:\n",
    "            hom_haplotypes[' '.join(sorted(haplotype))] +=1\n",
    "            hom_haplotypes_id[' '.join(sorted(haplotype))].append(row[1]['ID'])\n",
    "            \n",
    "    return hom_haplotypes, hom_haplotypes_id\n",
    " \n",
    "hom_hap, hom_ids = hom_haplotypes(data = data,#data,\n",
    "                                  n_genes = 3, #how many genes: choices = [3,4,5,6]\n",
    "                                 )\n",
    "\n",
    "hom_hap, hom_ids"
   ]
  },
  {
   "cell_type": "code",
   "execution_count": 152,
   "id": "2d8d72ed",
   "metadata": {},
   "outputs": [],
   "source": [
    "###############################################\n",
    "##              Save files                   ##\n",
    "###############################################\n",
    "a = pd.DataFrame(\n",
    "            [list(hom_hap.keys()), list(hom_hap.values()), list(hom_ids.values())],\n",
    "            ).T\n",
    "a.columns = ['Haplotype','Counts', 'IDs']\n",
    "a.to_excel('HOM_Turkey_BMDs_2fields_3loci.xlsx')"
   ]
  },
  {
   "cell_type": "code",
   "execution_count": null,
   "id": "fcc4671d",
   "metadata": {},
   "outputs": [],
   "source": []
  }
 ],
 "metadata": {
  "kernelspec": {
   "display_name": "Python 3 (ipykernel)",
   "language": "python",
   "name": "python3"
  },
  "language_info": {
   "codemirror_mode": {
    "name": "ipython",
    "version": 3
   },
   "file_extension": ".py",
   "mimetype": "text/x-python",
   "name": "python",
   "nbconvert_exporter": "python",
   "pygments_lexer": "ipython3",
   "version": "3.9.13"
  }
 },
 "nbformat": 4,
 "nbformat_minor": 5
}
